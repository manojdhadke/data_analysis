{
  "nbformat": 4,
  "nbformat_minor": 0,
  "metadata": {
    "colab": {
      "provenance": []
    },
    "kernelspec": {
      "name": "python3",
      "display_name": "Python 3"
    },
    "language_info": {
      "name": "python"
    }
  },
  "cells": [
    {
      "cell_type": "code",
      "execution_count": 2,
      "metadata": {
        "colab": {
          "base_uri": "https://localhost:8080/"
        },
        "id": "yJZg5yacvWji",
        "outputId": "36ee52c1-0073-4a2c-e912-d15e7ca99d26"
      },
      "outputs": [
        {
          "output_type": "stream",
          "name": "stdout",
          "text": [
            "enter the city name:Mancherial\n",
            "Temperature is 82°F\n",
            "Time:  Thursday 4:35 AM\n",
            "Sky Description:  Partly cloudy\n"
          ]
        }
      ],
      "source": [
        "# importing library\n",
        "import requests\n",
        "from bs4 import BeautifulSoup\n",
        "\n",
        "# enter city name\n",
        "city = input(\"enter the city name:\")\n",
        "\n",
        "# creating url and requests instance\n",
        "url = \"https://www.google.com/search?q=\"+\"weather\"+city\n",
        "html = requests.get(url).content\n",
        "\n",
        "# getting raw data\n",
        "soup = BeautifulSoup(html, 'html.parser')\n",
        "\n",
        "temp = soup.find(\"div\",{\"class\":\"BNeawe iBp4i AP7Wnd\"}).text\n",
        "str = soup.find('div', attrs={'class': 'BNeawe tAd8D AP7Wnd'}).text\n",
        "# formatting data\n",
        "data = str.split('\\n')\n",
        "time = data[0]\n",
        "sky = data[1]\n",
        " \n",
        "# getting all div tag\n",
        "listdiv = soup.findAll('div', attrs={'class': 'BNeawe s3v9rd AP7Wnd'})\n",
        "strd = listdiv[5].text\n",
        " \n",
        "# getting other required data\n",
        "pos = strd.find('Wind')\n",
        "other_data = strd[pos:]\n",
        " \n",
        "# printing all data\n",
        "print(\"Temperature is\", temp)\n",
        "print(\"Time: \", time)\n",
        "print(\"Sky Description: \", sky)\n",
        "\n",
        "\n",
        "\n"
      ]
    }
  ]
}