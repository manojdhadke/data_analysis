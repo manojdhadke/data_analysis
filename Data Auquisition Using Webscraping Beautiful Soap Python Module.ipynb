{
  "nbformat": 4,
  "nbformat_minor": 0,
  "metadata": {
    "colab": {
      "provenance": []
    },
    "kernelspec": {
      "name": "python3",
      "display_name": "Python 3"
    },
    "language_info": {
      "name": "python"
    }
  },
  "cells": [
    {
      "cell_type": "markdown",
      "source": [
        "# **Data Auquisition Using Webscraping Beautiful Soap Python Module**"
      ],
      "metadata": {
        "id": "7wHGQh9LhCja"
      }
    },
    {
      "cell_type": "code",
      "source": [
        "!pip install jovian --upgrade --quiet\n",
        "!pip install beautifulsoup4 --upgrade --quiet\n",
        "!pip install pandas --upgrade --quiet\n",
        "!pip install requests --upgrade --quiet\n"
      ],
      "metadata": {
        "colab": {
          "base_uri": "https://localhost:8080/"
        },
        "id": "teOftEaXfY8D",
        "outputId": "27bd0d41-2fde-4b89-afb1-a3ad20767400"
      },
      "execution_count": null,
      "outputs": [
        {
          "output_type": "stream",
          "name": "stdout",
          "text": [
            "\u001b[?25l\r\u001b[K     |████▊                           | 10 kB 18.1 MB/s eta 0:00:01\r\u001b[K     |█████████▌                      | 20 kB 16.7 MB/s eta 0:00:01\r\u001b[K     |██████████████▎                 | 30 kB 21.3 MB/s eta 0:00:01\r\u001b[K     |███████████████████             | 40 kB 7.4 MB/s eta 0:00:01\r\u001b[K     |███████████████████████▉        | 51 kB 5.8 MB/s eta 0:00:01\r\u001b[K     |████████████████████████████▋   | 61 kB 6.7 MB/s eta 0:00:01\r\u001b[K     |████████████████████████████████| 68 kB 3.3 MB/s \n",
            "\u001b[?25h  Building wheel for uuid (setup.py) ... \u001b[?25l\u001b[?25hdone\n",
            "\u001b[K     |████████████████████████████████| 128 kB 7.6 MB/s \n",
            "\u001b[K     |████████████████████████████████| 12.2 MB 7.5 MB/s \n",
            "\u001b[K     |████████████████████████████████| 62 kB 1.2 MB/s \n",
            "\u001b[?25h"
          ]
        }
      ]
    },
    {
      "cell_type": "code",
      "source": [
        "import pandas as pd\n",
        "import jovian\n",
        "from bs4 import BeautifulSoup\n",
        "import requests\n",
        "import time"
      ],
      "metadata": {
        "id": "KQ6vJMUVKIbK"
      },
      "execution_count": null,
      "outputs": []
    },
    {
      "cell_type": "code",
      "source": [
        "topic_url = \"https://www.value.today/world/world-top-500-companies\"\n",
        "response = requests.get(topic_url)"
      ],
      "metadata": {
        "id": "LnubtGnJfeQ5"
      },
      "execution_count": null,
      "outputs": []
    },
    {
      "cell_type": "code",
      "source": [
        "# Check the status code\n",
        "response.status_code"
      ],
      "metadata": {
        "colab": {
          "base_uri": "https://localhost:8080/"
        },
        "id": "3dvwgTy8fjDq",
        "outputId": "64586282-1892-4c74-edeb-06e39fd29b2f"
      },
      "execution_count": null,
      "outputs": [
        {
          "output_type": "execute_result",
          "data": {
            "text/plain": [
              "200"
            ]
          },
          "metadata": {},
          "execution_count": 40
        }
      ]
    },
    {
      "cell_type": "code",
      "source": [
        "page_content = response.text"
      ],
      "metadata": {
        "id": "lpuLCnnXfjG_"
      },
      "execution_count": null,
      "outputs": []
    },
    {
      "cell_type": "code",
      "source": [
        "len(page_content) # Checking the lenght of the page_content"
      ],
      "metadata": {
        "colab": {
          "base_uri": "https://localhost:8080/"
        },
        "id": "NyzAAZf2fjKe",
        "outputId": "54eae1fd-4926-40e8-a638-53a3588272c7"
      },
      "execution_count": null,
      "outputs": [
        {
          "output_type": "execute_result",
          "data": {
            "text/plain": [
              "1573034"
            ]
          },
          "metadata": {},
          "execution_count": 42
        }
      ]
    },
    {
      "cell_type": "code",
      "source": [
        "# Let's have a look on the first 1000 characters of the html codes that has been written for the web page\n",
        "page_content[:1000]"
      ],
      "metadata": {
        "colab": {
          "base_uri": "https://localhost:8080/",
          "height": 140
        },
        "id": "OmDrfsr6fjNj",
        "outputId": "245863a7-e144-4aeb-88e7-781354154e3b"
      },
      "execution_count": null,
      "outputs": [
        {
          "output_type": "execute_result",
          "data": {
            "text/plain": [
              "'<!DOCTYPE html>\\n<html lang=\"en\" dir=\"ltr\" prefix=\"content: http://purl.org/rss/1.0/modules/content/  dc: http://purl.org/dc/terms/  foaf: http://xmlns.com/foaf/0.1/  og: http://ogp.me/ns#  rdfs: http://www.w3.org/2000/01/rdf-schema#  schema: http://schema.org/  sioc: http://rdfs.org/sioc/ns#  sioct: http://rdfs.org/sioc/types#  skos: http://www.w3.org/2004/02/skos/core#  xsd: http://www.w3.org/2001/XMLSchema# \">\\n  <head>\\n    <meta charset=\"utf-8\"/>\\n<script async src=\"//pagead2.googlesyndication.com/pagead/js/adsbygoogle.js\"></script>\\n<script>(adsbygoogle=window.adsbygoogle||[]).push({google_ad_client:\"ca-pub-2407955258669770\",enable_page_level_ads:true});</script><script>window.google_analytics_uacct=\"UA-121331115-1\";(function(i,s,o,g,r,a,m){i[\"GoogleAnalyticsObject\"]=r;i[r]=i[r]||function(){(i[r].q=i[r].q||[]).push(arguments)},i[r].l=1*new Date();a=s.createElement(o),m=s.getElementsByTagName(o)[0];a.async=1;a.src=g;m.parentNode.insertBefore(a,m)})(window,document,\"script\",\"https://www'"
            ],
            "application/vnd.google.colaboratory.intrinsic+json": {
              "type": "string"
            }
          },
          "metadata": {},
          "execution_count": 43
        }
      ]
    },
    {
      "cell_type": "code",
      "source": [
        "with open(\"word's-top-500-companies-by-narket-capitalization.html\", 'w') as file:\n",
        "    file.write(page_content)"
      ],
      "metadata": {
        "id": "8b0NV-QZfvjp"
      },
      "execution_count": null,
      "outputs": []
    },
    {
      "cell_type": "code",
      "source": [
        "# Try to read the html that we have created above to extract the data that we needed from the web page.\n",
        "with open(\"word's-top-500-companies-by-narket-capitalization.html\", 'r') as f:\n",
        "    html_source = f.read()"
      ],
      "metadata": {
        "id": "lz_-1jDXf5yQ"
      },
      "execution_count": null,
      "outputs": []
    },
    {
      "cell_type": "code",
      "source": [
        "doc = BeautifulSoup(html_source) "
      ],
      "metadata": {
        "id": "MQ2ZEVvyfyzY"
      },
      "execution_count": null,
      "outputs": []
    },
    {
      "cell_type": "code",
      "source": [
        "type(doc)"
      ],
      "metadata": {
        "colab": {
          "base_uri": "https://localhost:8080/"
        },
        "id": "fsew5lnJfy74",
        "outputId": "0042a2a1-b382-4bb0-c3a9-f75e5c215cdb"
      },
      "execution_count": null,
      "outputs": [
        {
          "output_type": "execute_result",
          "data": {
            "text/plain": [
              "bs4.BeautifulSoup"
            ]
          },
          "metadata": {},
          "execution_count": 48
        }
      ]
    },
    {
      "cell_type": "code",
      "source": [
        "title_tag = doc.title\n",
        "title_tag"
      ],
      "metadata": {
        "colab": {
          "base_uri": "https://localhost:8080/"
        },
        "id": "T2JbRNXkfzDV",
        "outputId": "82923470-b045-4719-886b-bfbffdf3e711"
      },
      "execution_count": null,
      "outputs": [
        {
          "output_type": "execute_result",
          "data": {
            "text/plain": [
              "<title>World Top 500 Companies by Market Capitalization as on Jan 1st, 2020</title>"
            ]
          },
          "metadata": {},
          "execution_count": 49
        }
      ]
    },
    {
      "cell_type": "code",
      "source": [
        "title_tag.text"
      ],
      "metadata": {
        "colab": {
          "base_uri": "https://localhost:8080/",
          "height": 36
        },
        "id": "prQ-SmiygDXc",
        "outputId": "9e3f3fc0-c4ae-494e-83e4-30e5d5efe716"
      },
      "execution_count": null,
      "outputs": [
        {
          "output_type": "execute_result",
          "data": {
            "text/plain": [
              "'World Top 500 Companies by Market Capitalization as on Jan 1st, 2020'"
            ],
            "application/vnd.google.colaboratory.intrinsic+json": {
              "type": "string"
            }
          },
          "metadata": {},
          "execution_count": 50
        }
      ]
    },
    {
      "cell_type": "code",
      "source": [
        "# Before going further, first save our work because we are doing all this on an online platform\n",
        "jovian.commit(project=\"web-scraping-final\")"
      ],
      "metadata": {
        "colab": {
          "base_uri": "https://localhost:8080/"
        },
        "id": "xgnByUexgHCB",
        "outputId": "257898fa-f6cf-4a74-915c-569b88c521fe"
      },
      "execution_count": null,
      "outputs": [
        {
          "output_type": "stream",
          "name": "stdout",
          "text": [
            "[jovian] Detected Colab notebook...\u001b[0m\n",
            "[jovian] jovian.commit() is no longer required on Google Colab. If you ran this notebook from Jovian, \n",
            "then just save this file in Colab using Ctrl+S/Cmd+S and it will be updated on Jovian. \n",
            "Also, you can also delete this cell, it's no longer necessary.\u001b[0m\n"
          ]
        }
      ]
    },
    {
      "cell_type": "code",
      "source": [
        "company_block_tag = doc.find_all('div', {'class':'row well views-row'})\n",
        "company_block_tag[:1]"
      ],
      "metadata": {
        "colab": {
          "base_uri": "https://localhost:8080/"
        },
        "id": "mEObP-VmgKzU",
        "outputId": "bc65d0d5-700f-422b-8ae5-0822461bc7b6"
      },
      "execution_count": null,
      "outputs": [
        {
          "output_type": "execute_result",
          "data": {
            "text/plain": [
              "[<div class=\"row well views-row\">\n",
              " <div class=\"views-field views-field-title col-sm-12 clearfix\"><h2 class=\"field-content\"><a href=\"/company/saudi-arabian-oil-company\" hreflang=\"en\">SAUDI ARABIAN OIL COMPANY (Saudi Aramco)</a></h2></div><div class=\"views-field views-field-field-world-rank-jan-2020 clearfix col-sm-12\"><strong class=\"views-label views-label-field-world-rank-jan-2020\">World Rank (Jan-2020): </strong><span class=\"field-content\">1</span></div><div class=\"views-field views-field-field-market-value-jan-2020 clearfix col-sm-12\"><strong class=\"views-label views-label-field-market-value-jan-2020\">Market Cap (Jan-01-2020): </strong><span class=\"field-content\">1898.10 Billion USD</span></div><div class=\"views-field views-field-field-headquarters-of-company clearfix col-sm-12\"><strong class=\"views-label views-label-field-headquarters-of-company\">Headquarters of Company: </strong><span class=\"field-content\"><a href=\"/headquarters/saudi-arabia\" hreflang=\"und\">Saudi Arabia</a></span></div><div class=\"views-field views-field-field-company-category-primary clearfix col-sm-12\"><strong class=\"views-label views-label-field-company-category-primary\">Sector: </strong><span class=\"field-content\"><a href=\"/world-top-companies/energy\" hreflang=\"und\">Energy</a>, <a href=\"/world-top-companies/oil-and-gas\" hreflang=\"und\">Oil and Gas</a>, <a href=\"/world-top-companies/chemicals-fertilizers\" hreflang=\"und\">Chemicals</a>, <a href=\"/world-top-companies/oil-refining-marketing-companies\" hreflang=\"und\">Oil Refining</a>, <a href=\"/world-top-companies/oil-and-gas-pipeline-transport\" hreflang=\"und\">Oil and Gas Pipeline Transport</a>, <a href=\"/world-top-companies/integrated-oil-and-gas-companies\" hreflang=\"en\">Integrated Oil and Gas Companies</a></span></div><div class=\"views-field views-field-field-annual-revenue clearfix col-sm-12\"><strong class=\"views-label views-label-field-annual-revenue\">Annual Revenue: </strong><span class=\"field-content\">Saudi Aramco Annual Revenues for December-2020 ending is 862 Billion SAR</span></div><div class=\"views-field views-field-field-annual-net-income-lc clearfix col-sm-12\"><strong class=\"views-label views-label-field-annual-net-income-lc\">Annual Net Income: </strong><span class=\"field-content\">Saudi Aramco Annual Net Income for December-2020 ending is 185 Billion SAR</span></div><div class=\"views-field views-field-field-total-assets clearfix col-sm-12\"><strong class=\"views-label views-label-field-total-assets\">Total Assets: </strong><span class=\"field-content\">Total Assets of Saudi Aramco as on December-2020 is 1,914 Billion SAR</span></div><div class=\"views-field views-field-field-employee-count clearfix col-sm-12\"><strong class=\"views-label views-label-field-employee-count\">Total Employees: </strong><span class=\"field-content\">79,800</span></div><div class=\"views-field views-field-field-employee-count-as-on-date clearfix col-sm-12\"><strong class=\"views-label views-label-field-employee-count-as-on-date\">Employee Count as on Date: </strong><span class=\"field-content\">As on March 2021</span></div><div class=\"views-field views-field-field-ceo clearfix col-sm-12\"><strong class=\"views-label views-label-field-ceo\">CEO: </strong><span class=\"field-content\">Amin H. Al-Nasser</span></div>\n",
              " </div>]"
            ]
          },
          "metadata": {},
          "execution_count": 52
        }
      ]
    },
    {
      "cell_type": "code",
      "source": [
        "len(company_block_tag)"
      ],
      "metadata": {
        "colab": {
          "base_uri": "https://localhost:8080/"
        },
        "id": "IxcO9TeogNgt",
        "outputId": "6624afeb-edbd-4f45-aecd-78db5ffd18b3"
      },
      "execution_count": null,
      "outputs": [
        {
          "output_type": "execute_result",
          "data": {
            "text/plain": [
              "500"
            ]
          },
          "metadata": {},
          "execution_count": 53
        }
      ]
    },
    {
      "cell_type": "code",
      "source": [
        "# Here we try to find the tag and name for the company\n",
        "companies_name = []\n",
        "for tag in company_block_tag:\n",
        "        company_name_tag = tag.find('div',{'class':'views-field views-field-title col-sm-12 clearfix'})\n",
        "        companies_name.append(company_name_tag.find('a').text)"
      ],
      "metadata": {
        "id": "Pg9mtrFbgQIJ"
      },
      "execution_count": null,
      "outputs": []
    },
    {
      "cell_type": "code",
      "source": [
        "# Let's have a look on the top 5 company names if we have extracted it in right way. And also check the length of the companies name if we have got all the names available on the webpage\n",
        "print(companies_name[:5])\n",
        "len(companies_name)"
      ],
      "metadata": {
        "colab": {
          "base_uri": "https://localhost:8080/"
        },
        "id": "LTvohHBsgShK",
        "outputId": "f6094923-045a-43ab-e376-3565dbc10f34"
      },
      "execution_count": null,
      "outputs": [
        {
          "output_type": "stream",
          "name": "stdout",
          "text": [
            "['SAUDI ARABIAN OIL COMPANY (Saudi Aramco)', 'APPLE', 'MICROSOFT CORPORATION', 'ALPHABET', 'AMAZON.COM']\n"
          ]
        },
        {
          "output_type": "execute_result",
          "data": {
            "text/plain": [
              "500"
            ]
          },
          "metadata": {},
          "execution_count": 55
        }
      ]
    },
    {
      "cell_type": "code",
      "source": [
        "rank = []\n",
        "for tag in company_block_tag:\n",
        "    rank_tag = tag.find('div', {'class':'views-field views-field-field-world-rank-jan-2020 clearfix col-sm-12'})\n",
        "    rank.append(int(rank_tag.find('span').text))\n",
        "\n",
        "hq_location = []\n",
        "for tag in company_block_tag:\n",
        "    hq_tag = tag.find('div', {'class':'views-field views-field-field-headquarters-of-company clearfix col-sm-12'})\n",
        "    hq_location.append(hq_tag.find('span').text)\n",
        "\n",
        "ceo_name = []\n",
        "for tag in company_block_tag:\n",
        "    ceo_tag = tag.find('div', {'class':'views-field views-field-field-ceo clearfix col-sm-12'})\n",
        "    try:\n",
        "        ceo = ceo_tag.find('span', {'class':'field-content'})\n",
        "        ceo_name.append(ceo.text)\n",
        "    except AttributeError:\n",
        "        ceo_name.append(None)\n",
        "        \n",
        "market_cap = []\n",
        "for tag in company_block_tag:\n",
        "    market_cap_tag = tag.find('div', {'class':'views-field views-field-field-market-value-jan-2020 clearfix col-sm-12'})\n",
        "    try:\n",
        "        market_cap_value = market_cap_tag.find('span', {'class':'field-content'})\n",
        "        market_cap.append(market_cap_value.text)\n",
        "    except AttributeError:\n",
        "        market_cap.append(None)\n",
        "        \n",
        "total_employee = []\n",
        "for tag in company_block_tag:\n",
        "    employee_tag = tag.find('div',{'class':'views-field views-field-field-employee-count clearfix col-sm-12'})\n",
        "    try:\n",
        "        total_employee.append(employee_tag.find('span').text)\n",
        "    except AttributeError:\n",
        "        total_employee.append(None)\n",
        "        \n",
        "sectors = []\n",
        "for tag in company_block_tag:\n",
        "    sector_tag = tag.find('div', {'class':'views-field views-field-field-company-category-primary clearfix col-sm-12'})\n",
        "    sectors.append(sector_tag.find('span').text)"
      ],
      "metadata": {
        "id": "mfJUZYLbgW5j"
      },
      "execution_count": null,
      "outputs": []
    },
    {
      "cell_type": "code",
      "source": [
        "# Have a look if all the data is exactly same in counting for all 500 companies.\n",
        "print(len(rank),len(ceo_name),len(market_cap),len(hq_location), len(total_employee), len(sectors))"
      ],
      "metadata": {
        "colab": {
          "base_uri": "https://localhost:8080/"
        },
        "id": "3EX0UaQBga4T",
        "outputId": "db5ecbaf-fe44-48ed-909e-3920d0f77718"
      },
      "execution_count": null,
      "outputs": [
        {
          "output_type": "stream",
          "name": "stdout",
          "text": [
            "500 500 500 500 500 500\n"
          ]
        }
      ]
    },
    {
      "cell_type": "code",
      "source": [
        "# Extract the URL for the company page\n",
        "base_url = 'https://value.today'\n",
        "url = []\n",
        "for tag in company_block_tag:\n",
        "    url_tag = tag.find('div',{'class':'views-field views-field-title col-sm-12 clearfix'})\n",
        "    url.append(base_url + url_tag.find('a')['href'])"
      ],
      "metadata": {
        "id": "SLgHFNy5gc5e"
      },
      "execution_count": null,
      "outputs": []
    },
    {
      "cell_type": "code",
      "source": [
        "companies_name_dict = {\n",
        "    'Name': companies_name,\n",
        "    'Rank': rank,\n",
        "    'Headquarter': hq_location,\n",
        "    'CEO': ceo_name,\n",
        "    'Market Capitalization': market_cap,\n",
        "    'Total No. Of Employee': total_employee,\n",
        "    'Sectors': sectors,\n",
        "    'url': url\n",
        "}"
      ],
      "metadata": {
        "id": "E_BYFhhwggA8"
      },
      "execution_count": null,
      "outputs": []
    },
    {
      "cell_type": "code",
      "source": [
        "companies_df = pd.DataFrame(companies_name_dict)"
      ],
      "metadata": {
        "id": "VofBdV2Rgiqx"
      },
      "execution_count": null,
      "outputs": []
    },
    {
      "cell_type": "code",
      "source": [
        "# Have a look on the dataframe we have created\n",
        "companies_df"
      ],
      "metadata": {
        "colab": {
          "base_uri": "https://localhost:8080/",
          "height": 797
        },
        "id": "cLgCkocGgmpz",
        "outputId": "a1163074-d58a-4f79-a536-e0c555133faa"
      },
      "execution_count": null,
      "outputs": [
        {
          "output_type": "execute_result",
          "data": {
            "text/plain": [
              "                                             Name  Rank   Headquarter  \\\n",
              "0        SAUDI ARABIAN OIL COMPANY (Saudi Aramco)     1  Saudi Arabia   \n",
              "1                                           APPLE     2           USA   \n",
              "2                           MICROSOFT CORPORATION     3           USA   \n",
              "3                                        ALPHABET     4           USA   \n",
              "4                                      AMAZON.COM     5           USA   \n",
              "..                                            ...   ...           ...   \n",
              "495                            SEVEN & I HOLDINGS   471         Japan   \n",
              "496                        ASSICURAZIONI GENERALI   472         Italy   \n",
              "497                          AMPHENOL CORPORATION   473           USA   \n",
              "498                                 GENERAL MILLS   474           USA   \n",
              "499  FOMENTO ECONOMICO MEXICANOB. DE C.V. (FEMSA)   475        Mexico   \n",
              "\n",
              "                       CEO Market Capitalization Total No. Of Employee  \\\n",
              "0        Amin H. Al-Nasser   1898.10 Billion USD                79,800   \n",
              "1                 Tim Cook   1323.00 Billion USD               154,000   \n",
              "2            Satya Nadella   1215.00 Billion USD               220,000   \n",
              "3            Sundar Pichai    943.90 Billion USD               156,500   \n",
              "4               Andy Jassy    941.03 Billion USD             1,335,000   \n",
              "..                     ...                   ...                   ...   \n",
              "495          Ryuichi Isaka     32.65 Billion USD               138,808   \n",
              "496        Philippe Donnet     32.61 Billion USD                72,644   \n",
              "497   Richard Adam Norwitt     32.53 Billion USD                90,000   \n",
              "498         Jeff Harmening     32.52 Billion USD                35,000   \n",
              "499  Eduardo Padilla Silva     32.46 Billion USD               320,618   \n",
              "\n",
              "                                               Sectors  \\\n",
              "0    Energy, Oil and Gas, Chemicals, Oil Refining, ...   \n",
              "1    Technology, Mobiles & Accessories, Electronics...   \n",
              "2    Technology, Software and IT, Laptops, Video Ga...   \n",
              "3    Technology, Internet or Mobile App Based Busin...   \n",
              "4    eCommerce, Internet or Mobile App Based Busine...   \n",
              "..                                                 ...   \n",
              "495  Consumer Defensive, Retail, Super Markets, Con...   \n",
              "496                      Financial Services, Insurance   \n",
              "497  Technology, Electronics, Cables and Wires, Ele...   \n",
              "498  Consumer Defensive, Food Products, FMCG, Dairy...   \n",
              "499  Consumer Defensive, Non-Alcoholic Beverages, B...   \n",
              "\n",
              "                                                   url  \n",
              "0    https://value.today/company/saudi-arabian-oil-...  \n",
              "1                    https://value.today/company/apple  \n",
              "2    https://value.today/company/microsoft-corporation  \n",
              "3                 https://value.today/company/alphabet  \n",
              "4               https://value.today/company/amazon.com  \n",
              "..                                                 ...  \n",
              "495       https://value.today/company/seven-i-holdings  \n",
              "496  https://value.today/company/assicurazioni-gene...  \n",
              "497   https://value.today/company/amphenol-corporation  \n",
              "498          https://value.today/company/general-mills  \n",
              "499  https://value.today/company/fomento-economico-...  \n",
              "\n",
              "[500 rows x 8 columns]"
            ],
            "text/html": [
              "\n",
              "  <div id=\"df-787b6492-6782-4f3b-9d49-4a9775d3d401\">\n",
              "    <div class=\"colab-df-container\">\n",
              "      <div>\n",
              "<style scoped>\n",
              "    .dataframe tbody tr th:only-of-type {\n",
              "        vertical-align: middle;\n",
              "    }\n",
              "\n",
              "    .dataframe tbody tr th {\n",
              "        vertical-align: top;\n",
              "    }\n",
              "\n",
              "    .dataframe thead th {\n",
              "        text-align: right;\n",
              "    }\n",
              "</style>\n",
              "<table border=\"1\" class=\"dataframe\">\n",
              "  <thead>\n",
              "    <tr style=\"text-align: right;\">\n",
              "      <th></th>\n",
              "      <th>Name</th>\n",
              "      <th>Rank</th>\n",
              "      <th>Headquarter</th>\n",
              "      <th>CEO</th>\n",
              "      <th>Market Capitalization</th>\n",
              "      <th>Total No. Of Employee</th>\n",
              "      <th>Sectors</th>\n",
              "      <th>url</th>\n",
              "    </tr>\n",
              "  </thead>\n",
              "  <tbody>\n",
              "    <tr>\n",
              "      <th>0</th>\n",
              "      <td>SAUDI ARABIAN OIL COMPANY (Saudi Aramco)</td>\n",
              "      <td>1</td>\n",
              "      <td>Saudi Arabia</td>\n",
              "      <td>Amin H. Al-Nasser</td>\n",
              "      <td>1898.10 Billion USD</td>\n",
              "      <td>79,800</td>\n",
              "      <td>Energy, Oil and Gas, Chemicals, Oil Refining, ...</td>\n",
              "      <td>https://value.today/company/saudi-arabian-oil-...</td>\n",
              "    </tr>\n",
              "    <tr>\n",
              "      <th>1</th>\n",
              "      <td>APPLE</td>\n",
              "      <td>2</td>\n",
              "      <td>USA</td>\n",
              "      <td>Tim Cook</td>\n",
              "      <td>1323.00 Billion USD</td>\n",
              "      <td>154,000</td>\n",
              "      <td>Technology, Mobiles &amp; Accessories, Electronics...</td>\n",
              "      <td>https://value.today/company/apple</td>\n",
              "    </tr>\n",
              "    <tr>\n",
              "      <th>2</th>\n",
              "      <td>MICROSOFT CORPORATION</td>\n",
              "      <td>3</td>\n",
              "      <td>USA</td>\n",
              "      <td>Satya Nadella</td>\n",
              "      <td>1215.00 Billion USD</td>\n",
              "      <td>220,000</td>\n",
              "      <td>Technology, Software and IT, Laptops, Video Ga...</td>\n",
              "      <td>https://value.today/company/microsoft-corporation</td>\n",
              "    </tr>\n",
              "    <tr>\n",
              "      <th>3</th>\n",
              "      <td>ALPHABET</td>\n",
              "      <td>4</td>\n",
              "      <td>USA</td>\n",
              "      <td>Sundar Pichai</td>\n",
              "      <td>943.90 Billion USD</td>\n",
              "      <td>156,500</td>\n",
              "      <td>Technology, Internet or Mobile App Based Busin...</td>\n",
              "      <td>https://value.today/company/alphabet</td>\n",
              "    </tr>\n",
              "    <tr>\n",
              "      <th>4</th>\n",
              "      <td>AMAZON.COM</td>\n",
              "      <td>5</td>\n",
              "      <td>USA</td>\n",
              "      <td>Andy Jassy</td>\n",
              "      <td>941.03 Billion USD</td>\n",
              "      <td>1,335,000</td>\n",
              "      <td>eCommerce, Internet or Mobile App Based Busine...</td>\n",
              "      <td>https://value.today/company/amazon.com</td>\n",
              "    </tr>\n",
              "    <tr>\n",
              "      <th>...</th>\n",
              "      <td>...</td>\n",
              "      <td>...</td>\n",
              "      <td>...</td>\n",
              "      <td>...</td>\n",
              "      <td>...</td>\n",
              "      <td>...</td>\n",
              "      <td>...</td>\n",
              "      <td>...</td>\n",
              "    </tr>\n",
              "    <tr>\n",
              "      <th>495</th>\n",
              "      <td>SEVEN &amp; I HOLDINGS</td>\n",
              "      <td>471</td>\n",
              "      <td>Japan</td>\n",
              "      <td>Ryuichi Isaka</td>\n",
              "      <td>32.65 Billion USD</td>\n",
              "      <td>138,808</td>\n",
              "      <td>Consumer Defensive, Retail, Super Markets, Con...</td>\n",
              "      <td>https://value.today/company/seven-i-holdings</td>\n",
              "    </tr>\n",
              "    <tr>\n",
              "      <th>496</th>\n",
              "      <td>ASSICURAZIONI GENERALI</td>\n",
              "      <td>472</td>\n",
              "      <td>Italy</td>\n",
              "      <td>Philippe Donnet</td>\n",
              "      <td>32.61 Billion USD</td>\n",
              "      <td>72,644</td>\n",
              "      <td>Financial Services, Insurance</td>\n",
              "      <td>https://value.today/company/assicurazioni-gene...</td>\n",
              "    </tr>\n",
              "    <tr>\n",
              "      <th>497</th>\n",
              "      <td>AMPHENOL CORPORATION</td>\n",
              "      <td>473</td>\n",
              "      <td>USA</td>\n",
              "      <td>Richard Adam Norwitt</td>\n",
              "      <td>32.53 Billion USD</td>\n",
              "      <td>90,000</td>\n",
              "      <td>Technology, Electronics, Cables and Wires, Ele...</td>\n",
              "      <td>https://value.today/company/amphenol-corporation</td>\n",
              "    </tr>\n",
              "    <tr>\n",
              "      <th>498</th>\n",
              "      <td>GENERAL MILLS</td>\n",
              "      <td>474</td>\n",
              "      <td>USA</td>\n",
              "      <td>Jeff Harmening</td>\n",
              "      <td>32.52 Billion USD</td>\n",
              "      <td>35,000</td>\n",
              "      <td>Consumer Defensive, Food Products, FMCG, Dairy...</td>\n",
              "      <td>https://value.today/company/general-mills</td>\n",
              "    </tr>\n",
              "    <tr>\n",
              "      <th>499</th>\n",
              "      <td>FOMENTO ECONOMICO MEXICANOB. DE C.V. (FEMSA)</td>\n",
              "      <td>475</td>\n",
              "      <td>Mexico</td>\n",
              "      <td>Eduardo Padilla Silva</td>\n",
              "      <td>32.46 Billion USD</td>\n",
              "      <td>320,618</td>\n",
              "      <td>Consumer Defensive, Non-Alcoholic Beverages, B...</td>\n",
              "      <td>https://value.today/company/fomento-economico-...</td>\n",
              "    </tr>\n",
              "  </tbody>\n",
              "</table>\n",
              "<p>500 rows × 8 columns</p>\n",
              "</div>\n",
              "      <button class=\"colab-df-convert\" onclick=\"convertToInteractive('df-787b6492-6782-4f3b-9d49-4a9775d3d401')\"\n",
              "              title=\"Convert this dataframe to an interactive table.\"\n",
              "              style=\"display:none;\">\n",
              "        \n",
              "  <svg xmlns=\"http://www.w3.org/2000/svg\" height=\"24px\"viewBox=\"0 0 24 24\"\n",
              "       width=\"24px\">\n",
              "    <path d=\"M0 0h24v24H0V0z\" fill=\"none\"/>\n",
              "    <path d=\"M18.56 5.44l.94 2.06.94-2.06 2.06-.94-2.06-.94-.94-2.06-.94 2.06-2.06.94zm-11 1L8.5 8.5l.94-2.06 2.06-.94-2.06-.94L8.5 2.5l-.94 2.06-2.06.94zm10 10l.94 2.06.94-2.06 2.06-.94-2.06-.94-.94-2.06-.94 2.06-2.06.94z\"/><path d=\"M17.41 7.96l-1.37-1.37c-.4-.4-.92-.59-1.43-.59-.52 0-1.04.2-1.43.59L10.3 9.45l-7.72 7.72c-.78.78-.78 2.05 0 2.83L4 21.41c.39.39.9.59 1.41.59.51 0 1.02-.2 1.41-.59l7.78-7.78 2.81-2.81c.8-.78.8-2.07 0-2.86zM5.41 20L4 18.59l7.72-7.72 1.47 1.35L5.41 20z\"/>\n",
              "  </svg>\n",
              "      </button>\n",
              "      \n",
              "  <style>\n",
              "    .colab-df-container {\n",
              "      display:flex;\n",
              "      flex-wrap:wrap;\n",
              "      gap: 12px;\n",
              "    }\n",
              "\n",
              "    .colab-df-convert {\n",
              "      background-color: #E8F0FE;\n",
              "      border: none;\n",
              "      border-radius: 50%;\n",
              "      cursor: pointer;\n",
              "      display: none;\n",
              "      fill: #1967D2;\n",
              "      height: 32px;\n",
              "      padding: 0 0 0 0;\n",
              "      width: 32px;\n",
              "    }\n",
              "\n",
              "    .colab-df-convert:hover {\n",
              "      background-color: #E2EBFA;\n",
              "      box-shadow: 0px 1px 2px rgba(60, 64, 67, 0.3), 0px 1px 3px 1px rgba(60, 64, 67, 0.15);\n",
              "      fill: #174EA6;\n",
              "    }\n",
              "\n",
              "    [theme=dark] .colab-df-convert {\n",
              "      background-color: #3B4455;\n",
              "      fill: #D2E3FC;\n",
              "    }\n",
              "\n",
              "    [theme=dark] .colab-df-convert:hover {\n",
              "      background-color: #434B5C;\n",
              "      box-shadow: 0px 1px 3px 1px rgba(0, 0, 0, 0.15);\n",
              "      filter: drop-shadow(0px 1px 2px rgba(0, 0, 0, 0.3));\n",
              "      fill: #FFFFFF;\n",
              "    }\n",
              "  </style>\n",
              "\n",
              "      <script>\n",
              "        const buttonEl =\n",
              "          document.querySelector('#df-787b6492-6782-4f3b-9d49-4a9775d3d401 button.colab-df-convert');\n",
              "        buttonEl.style.display =\n",
              "          google.colab.kernel.accessAllowed ? 'block' : 'none';\n",
              "\n",
              "        async function convertToInteractive(key) {\n",
              "          const element = document.querySelector('#df-787b6492-6782-4f3b-9d49-4a9775d3d401');\n",
              "          const dataTable =\n",
              "            await google.colab.kernel.invokeFunction('convertToInteractive',\n",
              "                                                     [key], {});\n",
              "          if (!dataTable) return;\n",
              "\n",
              "          const docLinkHtml = 'Like what you see? Visit the ' +\n",
              "            '<a target=\"_blank\" href=https://colab.research.google.com/notebooks/data_table.ipynb>data table notebook</a>'\n",
              "            + ' to learn more about interactive tables.';\n",
              "          element.innerHTML = '';\n",
              "          dataTable['output_type'] = 'display_data';\n",
              "          await google.colab.output.renderOutput(dataTable, element);\n",
              "          const docLink = document.createElement('div');\n",
              "          docLink.innerHTML = docLinkHtml;\n",
              "          element.appendChild(docLink);\n",
              "        }\n",
              "      </script>\n",
              "    </div>\n",
              "  </div>\n",
              "  "
            ]
          },
          "metadata": {},
          "execution_count": 61
        }
      ]
    },
    {
      "cell_type": "code",
      "source": [
        "companies_df.to_csv('/content/drive/MyDrive/ABC/new_1.csv',index=False)"
      ],
      "metadata": {
        "id": "fzJ1ea3jgwTe"
      },
      "execution_count": null,
      "outputs": []
    },
    {
      "cell_type": "code",
      "source": [
        " companies_df= pd.read_csv(\"/content/drive/MyDrive/ABC/new_1.csv\") "
      ],
      "metadata": {
        "id": "hx94HBABiUd6"
      },
      "execution_count": null,
      "outputs": []
    },
    {
      "cell_type": "code",
      "source": [
        " companies_df.shape   "
      ],
      "metadata": {
        "id": "y8B59EOqNTWH",
        "colab": {
          "base_uri": "https://localhost:8080/"
        },
        "outputId": "c3f631ef-0f96-4350-aa23-b3feb3af6b8e"
      },
      "execution_count": null,
      "outputs": [
        {
          "output_type": "execute_result",
          "data": {
            "text/plain": [
              "(500, 8)"
            ]
          },
          "metadata": {},
          "execution_count": 6
        }
      ]
    },
    {
      "cell_type": "code",
      "source": [
        " companies_df.dtypes"
      ],
      "metadata": {
        "colab": {
          "base_uri": "https://localhost:8080/"
        },
        "id": "OdElIQBOSEUQ",
        "outputId": "8bdc7ed6-65bf-4402-b977-5ba290bc2d73"
      },
      "execution_count": null,
      "outputs": [
        {
          "output_type": "execute_result",
          "data": {
            "text/plain": [
              "Name                     object\n",
              "Rank                      int64\n",
              "Headquarter              object\n",
              "CEO                      object\n",
              "Market Capitalization    object\n",
              "Total No. Of Employee    object\n",
              "Sectors                  object\n",
              "url                      object\n",
              "dtype: object"
            ]
          },
          "metadata": {},
          "execution_count": 7
        }
      ]
    },
    {
      "cell_type": "code",
      "source": [
        " companies_df.head(5) "
      ],
      "metadata": {
        "colab": {
          "base_uri": "https://localhost:8080/",
          "height": 354
        },
        "id": "FUCqEUndSUCY",
        "outputId": "c8d69b51-4ade-411e-e503-42f2b8950953"
      },
      "execution_count": null,
      "outputs": [
        {
          "output_type": "execute_result",
          "data": {
            "text/plain": [
              "                                       Name  Rank   Headquarter  \\\n",
              "0  SAUDI ARABIAN OIL COMPANY (Saudi Aramco)     1  Saudi Arabia   \n",
              "1                                     APPLE     2           USA   \n",
              "2                     MICROSOFT CORPORATION     3           USA   \n",
              "3                                  ALPHABET     4           USA   \n",
              "4                                AMAZON.COM     5           USA   \n",
              "\n",
              "                 CEO Market Capitalization Total No. Of Employee  \\\n",
              "0  Amin H. Al-Nasser   1898.10 Billion USD                79,800   \n",
              "1           Tim Cook   1323.00 Billion USD               154,000   \n",
              "2      Satya Nadella   1215.00 Billion USD               220,000   \n",
              "3      Sundar Pichai    943.90 Billion USD               156,500   \n",
              "4         Andy Jassy    941.03 Billion USD             1,335,000   \n",
              "\n",
              "                                             Sectors  \\\n",
              "0  Energy, Oil and Gas, Chemicals, Oil Refining, ...   \n",
              "1  Technology, Mobiles & Accessories, Electronics...   \n",
              "2  Technology, Software and IT, Laptops, Video Ga...   \n",
              "3  Technology, Internet or Mobile App Based Busin...   \n",
              "4  eCommerce, Internet or Mobile App Based Busine...   \n",
              "\n",
              "                                                 url  \n",
              "0  https://value.today/company/saudi-arabian-oil-...  \n",
              "1                  https://value.today/company/apple  \n",
              "2  https://value.today/company/microsoft-corporation  \n",
              "3               https://value.today/company/alphabet  \n",
              "4             https://value.today/company/amazon.com  "
            ],
            "text/html": [
              "\n",
              "  <div id=\"df-a9542bcb-58fa-4f82-b8be-c5b9a21d7249\">\n",
              "    <div class=\"colab-df-container\">\n",
              "      <div>\n",
              "<style scoped>\n",
              "    .dataframe tbody tr th:only-of-type {\n",
              "        vertical-align: middle;\n",
              "    }\n",
              "\n",
              "    .dataframe tbody tr th {\n",
              "        vertical-align: top;\n",
              "    }\n",
              "\n",
              "    .dataframe thead th {\n",
              "        text-align: right;\n",
              "    }\n",
              "</style>\n",
              "<table border=\"1\" class=\"dataframe\">\n",
              "  <thead>\n",
              "    <tr style=\"text-align: right;\">\n",
              "      <th></th>\n",
              "      <th>Name</th>\n",
              "      <th>Rank</th>\n",
              "      <th>Headquarter</th>\n",
              "      <th>CEO</th>\n",
              "      <th>Market Capitalization</th>\n",
              "      <th>Total No. Of Employee</th>\n",
              "      <th>Sectors</th>\n",
              "      <th>url</th>\n",
              "    </tr>\n",
              "  </thead>\n",
              "  <tbody>\n",
              "    <tr>\n",
              "      <th>0</th>\n",
              "      <td>SAUDI ARABIAN OIL COMPANY (Saudi Aramco)</td>\n",
              "      <td>1</td>\n",
              "      <td>Saudi Arabia</td>\n",
              "      <td>Amin H. Al-Nasser</td>\n",
              "      <td>1898.10 Billion USD</td>\n",
              "      <td>79,800</td>\n",
              "      <td>Energy, Oil and Gas, Chemicals, Oil Refining, ...</td>\n",
              "      <td>https://value.today/company/saudi-arabian-oil-...</td>\n",
              "    </tr>\n",
              "    <tr>\n",
              "      <th>1</th>\n",
              "      <td>APPLE</td>\n",
              "      <td>2</td>\n",
              "      <td>USA</td>\n",
              "      <td>Tim Cook</td>\n",
              "      <td>1323.00 Billion USD</td>\n",
              "      <td>154,000</td>\n",
              "      <td>Technology, Mobiles &amp; Accessories, Electronics...</td>\n",
              "      <td>https://value.today/company/apple</td>\n",
              "    </tr>\n",
              "    <tr>\n",
              "      <th>2</th>\n",
              "      <td>MICROSOFT CORPORATION</td>\n",
              "      <td>3</td>\n",
              "      <td>USA</td>\n",
              "      <td>Satya Nadella</td>\n",
              "      <td>1215.00 Billion USD</td>\n",
              "      <td>220,000</td>\n",
              "      <td>Technology, Software and IT, Laptops, Video Ga...</td>\n",
              "      <td>https://value.today/company/microsoft-corporation</td>\n",
              "    </tr>\n",
              "    <tr>\n",
              "      <th>3</th>\n",
              "      <td>ALPHABET</td>\n",
              "      <td>4</td>\n",
              "      <td>USA</td>\n",
              "      <td>Sundar Pichai</td>\n",
              "      <td>943.90 Billion USD</td>\n",
              "      <td>156,500</td>\n",
              "      <td>Technology, Internet or Mobile App Based Busin...</td>\n",
              "      <td>https://value.today/company/alphabet</td>\n",
              "    </tr>\n",
              "    <tr>\n",
              "      <th>4</th>\n",
              "      <td>AMAZON.COM</td>\n",
              "      <td>5</td>\n",
              "      <td>USA</td>\n",
              "      <td>Andy Jassy</td>\n",
              "      <td>941.03 Billion USD</td>\n",
              "      <td>1,335,000</td>\n",
              "      <td>eCommerce, Internet or Mobile App Based Busine...</td>\n",
              "      <td>https://value.today/company/amazon.com</td>\n",
              "    </tr>\n",
              "  </tbody>\n",
              "</table>\n",
              "</div>\n",
              "      <button class=\"colab-df-convert\" onclick=\"convertToInteractive('df-a9542bcb-58fa-4f82-b8be-c5b9a21d7249')\"\n",
              "              title=\"Convert this dataframe to an interactive table.\"\n",
              "              style=\"display:none;\">\n",
              "        \n",
              "  <svg xmlns=\"http://www.w3.org/2000/svg\" height=\"24px\"viewBox=\"0 0 24 24\"\n",
              "       width=\"24px\">\n",
              "    <path d=\"M0 0h24v24H0V0z\" fill=\"none\"/>\n",
              "    <path d=\"M18.56 5.44l.94 2.06.94-2.06 2.06-.94-2.06-.94-.94-2.06-.94 2.06-2.06.94zm-11 1L8.5 8.5l.94-2.06 2.06-.94-2.06-.94L8.5 2.5l-.94 2.06-2.06.94zm10 10l.94 2.06.94-2.06 2.06-.94-2.06-.94-.94-2.06-.94 2.06-2.06.94z\"/><path d=\"M17.41 7.96l-1.37-1.37c-.4-.4-.92-.59-1.43-.59-.52 0-1.04.2-1.43.59L10.3 9.45l-7.72 7.72c-.78.78-.78 2.05 0 2.83L4 21.41c.39.39.9.59 1.41.59.51 0 1.02-.2 1.41-.59l7.78-7.78 2.81-2.81c.8-.78.8-2.07 0-2.86zM5.41 20L4 18.59l7.72-7.72 1.47 1.35L5.41 20z\"/>\n",
              "  </svg>\n",
              "      </button>\n",
              "      \n",
              "  <style>\n",
              "    .colab-df-container {\n",
              "      display:flex;\n",
              "      flex-wrap:wrap;\n",
              "      gap: 12px;\n",
              "    }\n",
              "\n",
              "    .colab-df-convert {\n",
              "      background-color: #E8F0FE;\n",
              "      border: none;\n",
              "      border-radius: 50%;\n",
              "      cursor: pointer;\n",
              "      display: none;\n",
              "      fill: #1967D2;\n",
              "      height: 32px;\n",
              "      padding: 0 0 0 0;\n",
              "      width: 32px;\n",
              "    }\n",
              "\n",
              "    .colab-df-convert:hover {\n",
              "      background-color: #E2EBFA;\n",
              "      box-shadow: 0px 1px 2px rgba(60, 64, 67, 0.3), 0px 1px 3px 1px rgba(60, 64, 67, 0.15);\n",
              "      fill: #174EA6;\n",
              "    }\n",
              "\n",
              "    [theme=dark] .colab-df-convert {\n",
              "      background-color: #3B4455;\n",
              "      fill: #D2E3FC;\n",
              "    }\n",
              "\n",
              "    [theme=dark] .colab-df-convert:hover {\n",
              "      background-color: #434B5C;\n",
              "      box-shadow: 0px 1px 3px 1px rgba(0, 0, 0, 0.15);\n",
              "      filter: drop-shadow(0px 1px 2px rgba(0, 0, 0, 0.3));\n",
              "      fill: #FFFFFF;\n",
              "    }\n",
              "  </style>\n",
              "\n",
              "      <script>\n",
              "        const buttonEl =\n",
              "          document.querySelector('#df-a9542bcb-58fa-4f82-b8be-c5b9a21d7249 button.colab-df-convert');\n",
              "        buttonEl.style.display =\n",
              "          google.colab.kernel.accessAllowed ? 'block' : 'none';\n",
              "\n",
              "        async function convertToInteractive(key) {\n",
              "          const element = document.querySelector('#df-a9542bcb-58fa-4f82-b8be-c5b9a21d7249');\n",
              "          const dataTable =\n",
              "            await google.colab.kernel.invokeFunction('convertToInteractive',\n",
              "                                                     [key], {});\n",
              "          if (!dataTable) return;\n",
              "\n",
              "          const docLinkHtml = 'Like what you see? Visit the ' +\n",
              "            '<a target=\"_blank\" href=https://colab.research.google.com/notebooks/data_table.ipynb>data table notebook</a>'\n",
              "            + ' to learn more about interactive tables.';\n",
              "          element.innerHTML = '';\n",
              "          dataTable['output_type'] = 'display_data';\n",
              "          await google.colab.output.renderOutput(dataTable, element);\n",
              "          const docLink = document.createElement('div');\n",
              "          docLink.innerHTML = docLinkHtml;\n",
              "          element.appendChild(docLink);\n",
              "        }\n",
              "      </script>\n",
              "    </div>\n",
              "  </div>\n",
              "  "
            ]
          },
          "metadata": {},
          "execution_count": 8
        }
      ]
    },
    {
      "cell_type": "code",
      "source": [
        " companies_df.describe()"
      ],
      "metadata": {
        "colab": {
          "base_uri": "https://localhost:8080/",
          "height": 300
        },
        "id": "1aFh7m_PSYZc",
        "outputId": "9d5fd405-595e-4ee5-dd42-080e7c487742"
      },
      "execution_count": null,
      "outputs": [
        {
          "output_type": "execute_result",
          "data": {
            "text/plain": [
              "             Rank\n",
              "count  500.000000\n",
              "mean   236.632000\n",
              "std    135.770895\n",
              "min      1.000000\n",
              "25%    120.750000\n",
              "50%    234.500000\n",
              "75%    354.250000\n",
              "max    475.000000"
            ],
            "text/html": [
              "\n",
              "  <div id=\"df-ef4e18d7-b762-40bd-857a-fce686eb3526\">\n",
              "    <div class=\"colab-df-container\">\n",
              "      <div>\n",
              "<style scoped>\n",
              "    .dataframe tbody tr th:only-of-type {\n",
              "        vertical-align: middle;\n",
              "    }\n",
              "\n",
              "    .dataframe tbody tr th {\n",
              "        vertical-align: top;\n",
              "    }\n",
              "\n",
              "    .dataframe thead th {\n",
              "        text-align: right;\n",
              "    }\n",
              "</style>\n",
              "<table border=\"1\" class=\"dataframe\">\n",
              "  <thead>\n",
              "    <tr style=\"text-align: right;\">\n",
              "      <th></th>\n",
              "      <th>Rank</th>\n",
              "    </tr>\n",
              "  </thead>\n",
              "  <tbody>\n",
              "    <tr>\n",
              "      <th>count</th>\n",
              "      <td>500.000000</td>\n",
              "    </tr>\n",
              "    <tr>\n",
              "      <th>mean</th>\n",
              "      <td>236.632000</td>\n",
              "    </tr>\n",
              "    <tr>\n",
              "      <th>std</th>\n",
              "      <td>135.770895</td>\n",
              "    </tr>\n",
              "    <tr>\n",
              "      <th>min</th>\n",
              "      <td>1.000000</td>\n",
              "    </tr>\n",
              "    <tr>\n",
              "      <th>25%</th>\n",
              "      <td>120.750000</td>\n",
              "    </tr>\n",
              "    <tr>\n",
              "      <th>50%</th>\n",
              "      <td>234.500000</td>\n",
              "    </tr>\n",
              "    <tr>\n",
              "      <th>75%</th>\n",
              "      <td>354.250000</td>\n",
              "    </tr>\n",
              "    <tr>\n",
              "      <th>max</th>\n",
              "      <td>475.000000</td>\n",
              "    </tr>\n",
              "  </tbody>\n",
              "</table>\n",
              "</div>\n",
              "      <button class=\"colab-df-convert\" onclick=\"convertToInteractive('df-ef4e18d7-b762-40bd-857a-fce686eb3526')\"\n",
              "              title=\"Convert this dataframe to an interactive table.\"\n",
              "              style=\"display:none;\">\n",
              "        \n",
              "  <svg xmlns=\"http://www.w3.org/2000/svg\" height=\"24px\"viewBox=\"0 0 24 24\"\n",
              "       width=\"24px\">\n",
              "    <path d=\"M0 0h24v24H0V0z\" fill=\"none\"/>\n",
              "    <path d=\"M18.56 5.44l.94 2.06.94-2.06 2.06-.94-2.06-.94-.94-2.06-.94 2.06-2.06.94zm-11 1L8.5 8.5l.94-2.06 2.06-.94-2.06-.94L8.5 2.5l-.94 2.06-2.06.94zm10 10l.94 2.06.94-2.06 2.06-.94-2.06-.94-.94-2.06-.94 2.06-2.06.94z\"/><path d=\"M17.41 7.96l-1.37-1.37c-.4-.4-.92-.59-1.43-.59-.52 0-1.04.2-1.43.59L10.3 9.45l-7.72 7.72c-.78.78-.78 2.05 0 2.83L4 21.41c.39.39.9.59 1.41.59.51 0 1.02-.2 1.41-.59l7.78-7.78 2.81-2.81c.8-.78.8-2.07 0-2.86zM5.41 20L4 18.59l7.72-7.72 1.47 1.35L5.41 20z\"/>\n",
              "  </svg>\n",
              "      </button>\n",
              "      \n",
              "  <style>\n",
              "    .colab-df-container {\n",
              "      display:flex;\n",
              "      flex-wrap:wrap;\n",
              "      gap: 12px;\n",
              "    }\n",
              "\n",
              "    .colab-df-convert {\n",
              "      background-color: #E8F0FE;\n",
              "      border: none;\n",
              "      border-radius: 50%;\n",
              "      cursor: pointer;\n",
              "      display: none;\n",
              "      fill: #1967D2;\n",
              "      height: 32px;\n",
              "      padding: 0 0 0 0;\n",
              "      width: 32px;\n",
              "    }\n",
              "\n",
              "    .colab-df-convert:hover {\n",
              "      background-color: #E2EBFA;\n",
              "      box-shadow: 0px 1px 2px rgba(60, 64, 67, 0.3), 0px 1px 3px 1px rgba(60, 64, 67, 0.15);\n",
              "      fill: #174EA6;\n",
              "    }\n",
              "\n",
              "    [theme=dark] .colab-df-convert {\n",
              "      background-color: #3B4455;\n",
              "      fill: #D2E3FC;\n",
              "    }\n",
              "\n",
              "    [theme=dark] .colab-df-convert:hover {\n",
              "      background-color: #434B5C;\n",
              "      box-shadow: 0px 1px 3px 1px rgba(0, 0, 0, 0.15);\n",
              "      filter: drop-shadow(0px 1px 2px rgba(0, 0, 0, 0.3));\n",
              "      fill: #FFFFFF;\n",
              "    }\n",
              "  </style>\n",
              "\n",
              "      <script>\n",
              "        const buttonEl =\n",
              "          document.querySelector('#df-ef4e18d7-b762-40bd-857a-fce686eb3526 button.colab-df-convert');\n",
              "        buttonEl.style.display =\n",
              "          google.colab.kernel.accessAllowed ? 'block' : 'none';\n",
              "\n",
              "        async function convertToInteractive(key) {\n",
              "          const element = document.querySelector('#df-ef4e18d7-b762-40bd-857a-fce686eb3526');\n",
              "          const dataTable =\n",
              "            await google.colab.kernel.invokeFunction('convertToInteractive',\n",
              "                                                     [key], {});\n",
              "          if (!dataTable) return;\n",
              "\n",
              "          const docLinkHtml = 'Like what you see? Visit the ' +\n",
              "            '<a target=\"_blank\" href=https://colab.research.google.com/notebooks/data_table.ipynb>data table notebook</a>'\n",
              "            + ' to learn more about interactive tables.';\n",
              "          element.innerHTML = '';\n",
              "          dataTable['output_type'] = 'display_data';\n",
              "          await google.colab.output.renderOutput(dataTable, element);\n",
              "          const docLink = document.createElement('div');\n",
              "          docLink.innerHTML = docLinkHtml;\n",
              "          element.appendChild(docLink);\n",
              "        }\n",
              "      </script>\n",
              "    </div>\n",
              "  </div>\n",
              "  "
            ]
          },
          "metadata": {},
          "execution_count": 9
        }
      ]
    },
    {
      "cell_type": "code",
      "source": [
        "categorical =  companies_df.dtypes[companies_df.dtypes == \"object\"].index\n",
        "print(categorical)\n",
        "\n",
        "companies_df[categorical].describe()"
      ],
      "metadata": {
        "colab": {
          "base_uri": "https://localhost:8080/",
          "height": 305
        },
        "id": "DItbIZvTSnwb",
        "outputId": "f4dc988c-72b5-445a-9ee8-5e78dd45dc03"
      },
      "execution_count": null,
      "outputs": [
        {
          "output_type": "stream",
          "name": "stdout",
          "text": [
            "Index(['Name', 'Headquarter', 'CEO', 'Market Capitalization',\n",
            "       'Total No. Of Employee', 'Sectors', 'url'],\n",
            "      dtype='object')\n"
          ]
        },
        {
          "output_type": "execute_result",
          "data": {
            "text/plain": [
              "                                            Name Headquarter  \\\n",
              "count                                        500         500   \n",
              "unique                                       500          38   \n",
              "top     SAUDI ARABIAN OIL COMPANY (Saudi Aramco)         USA   \n",
              "freq                                           1         208   \n",
              "\n",
              "                        CEO Market Capitalization Total No. Of Employee  \\\n",
              "count                   466                   474                   498   \n",
              "unique                  460                   452                   458   \n",
              "top     Sashidhar Jagdishan     35.10 Billion USD                45,000   \n",
              "freq                      2                     2                     5   \n",
              "\n",
              "                                     Sectors  \\\n",
              "count                                    500   \n",
              "unique                                   405   \n",
              "top     Financial Services, Banking Services   \n",
              "freq                                      37   \n",
              "\n",
              "                                                      url  \n",
              "count                                                 500  \n",
              "unique                                                500  \n",
              "top     https://value.today/company/saudi-arabian-oil-...  \n",
              "freq                                                    1  "
            ],
            "text/html": [
              "\n",
              "  <div id=\"df-baa0e79e-a7eb-44fa-a5bf-7f92e84b2327\">\n",
              "    <div class=\"colab-df-container\">\n",
              "      <div>\n",
              "<style scoped>\n",
              "    .dataframe tbody tr th:only-of-type {\n",
              "        vertical-align: middle;\n",
              "    }\n",
              "\n",
              "    .dataframe tbody tr th {\n",
              "        vertical-align: top;\n",
              "    }\n",
              "\n",
              "    .dataframe thead th {\n",
              "        text-align: right;\n",
              "    }\n",
              "</style>\n",
              "<table border=\"1\" class=\"dataframe\">\n",
              "  <thead>\n",
              "    <tr style=\"text-align: right;\">\n",
              "      <th></th>\n",
              "      <th>Name</th>\n",
              "      <th>Headquarter</th>\n",
              "      <th>CEO</th>\n",
              "      <th>Market Capitalization</th>\n",
              "      <th>Total No. Of Employee</th>\n",
              "      <th>Sectors</th>\n",
              "      <th>url</th>\n",
              "    </tr>\n",
              "  </thead>\n",
              "  <tbody>\n",
              "    <tr>\n",
              "      <th>count</th>\n",
              "      <td>500</td>\n",
              "      <td>500</td>\n",
              "      <td>466</td>\n",
              "      <td>474</td>\n",
              "      <td>498</td>\n",
              "      <td>500</td>\n",
              "      <td>500</td>\n",
              "    </tr>\n",
              "    <tr>\n",
              "      <th>unique</th>\n",
              "      <td>500</td>\n",
              "      <td>38</td>\n",
              "      <td>460</td>\n",
              "      <td>452</td>\n",
              "      <td>458</td>\n",
              "      <td>405</td>\n",
              "      <td>500</td>\n",
              "    </tr>\n",
              "    <tr>\n",
              "      <th>top</th>\n",
              "      <td>SAUDI ARABIAN OIL COMPANY (Saudi Aramco)</td>\n",
              "      <td>USA</td>\n",
              "      <td>Sashidhar Jagdishan</td>\n",
              "      <td>35.10 Billion USD</td>\n",
              "      <td>45,000</td>\n",
              "      <td>Financial Services, Banking Services</td>\n",
              "      <td>https://value.today/company/saudi-arabian-oil-...</td>\n",
              "    </tr>\n",
              "    <tr>\n",
              "      <th>freq</th>\n",
              "      <td>1</td>\n",
              "      <td>208</td>\n",
              "      <td>2</td>\n",
              "      <td>2</td>\n",
              "      <td>5</td>\n",
              "      <td>37</td>\n",
              "      <td>1</td>\n",
              "    </tr>\n",
              "  </tbody>\n",
              "</table>\n",
              "</div>\n",
              "      <button class=\"colab-df-convert\" onclick=\"convertToInteractive('df-baa0e79e-a7eb-44fa-a5bf-7f92e84b2327')\"\n",
              "              title=\"Convert this dataframe to an interactive table.\"\n",
              "              style=\"display:none;\">\n",
              "        \n",
              "  <svg xmlns=\"http://www.w3.org/2000/svg\" height=\"24px\"viewBox=\"0 0 24 24\"\n",
              "       width=\"24px\">\n",
              "    <path d=\"M0 0h24v24H0V0z\" fill=\"none\"/>\n",
              "    <path d=\"M18.56 5.44l.94 2.06.94-2.06 2.06-.94-2.06-.94-.94-2.06-.94 2.06-2.06.94zm-11 1L8.5 8.5l.94-2.06 2.06-.94-2.06-.94L8.5 2.5l-.94 2.06-2.06.94zm10 10l.94 2.06.94-2.06 2.06-.94-2.06-.94-.94-2.06-.94 2.06-2.06.94z\"/><path d=\"M17.41 7.96l-1.37-1.37c-.4-.4-.92-.59-1.43-.59-.52 0-1.04.2-1.43.59L10.3 9.45l-7.72 7.72c-.78.78-.78 2.05 0 2.83L4 21.41c.39.39.9.59 1.41.59.51 0 1.02-.2 1.41-.59l7.78-7.78 2.81-2.81c.8-.78.8-2.07 0-2.86zM5.41 20L4 18.59l7.72-7.72 1.47 1.35L5.41 20z\"/>\n",
              "  </svg>\n",
              "      </button>\n",
              "      \n",
              "  <style>\n",
              "    .colab-df-container {\n",
              "      display:flex;\n",
              "      flex-wrap:wrap;\n",
              "      gap: 12px;\n",
              "    }\n",
              "\n",
              "    .colab-df-convert {\n",
              "      background-color: #E8F0FE;\n",
              "      border: none;\n",
              "      border-radius: 50%;\n",
              "      cursor: pointer;\n",
              "      display: none;\n",
              "      fill: #1967D2;\n",
              "      height: 32px;\n",
              "      padding: 0 0 0 0;\n",
              "      width: 32px;\n",
              "    }\n",
              "\n",
              "    .colab-df-convert:hover {\n",
              "      background-color: #E2EBFA;\n",
              "      box-shadow: 0px 1px 2px rgba(60, 64, 67, 0.3), 0px 1px 3px 1px rgba(60, 64, 67, 0.15);\n",
              "      fill: #174EA6;\n",
              "    }\n",
              "\n",
              "    [theme=dark] .colab-df-convert {\n",
              "      background-color: #3B4455;\n",
              "      fill: #D2E3FC;\n",
              "    }\n",
              "\n",
              "    [theme=dark] .colab-df-convert:hover {\n",
              "      background-color: #434B5C;\n",
              "      box-shadow: 0px 1px 3px 1px rgba(0, 0, 0, 0.15);\n",
              "      filter: drop-shadow(0px 1px 2px rgba(0, 0, 0, 0.3));\n",
              "      fill: #FFFFFF;\n",
              "    }\n",
              "  </style>\n",
              "\n",
              "      <script>\n",
              "        const buttonEl =\n",
              "          document.querySelector('#df-baa0e79e-a7eb-44fa-a5bf-7f92e84b2327 button.colab-df-convert');\n",
              "        buttonEl.style.display =\n",
              "          google.colab.kernel.accessAllowed ? 'block' : 'none';\n",
              "\n",
              "        async function convertToInteractive(key) {\n",
              "          const element = document.querySelector('#df-baa0e79e-a7eb-44fa-a5bf-7f92e84b2327');\n",
              "          const dataTable =\n",
              "            await google.colab.kernel.invokeFunction('convertToInteractive',\n",
              "                                                     [key], {});\n",
              "          if (!dataTable) return;\n",
              "\n",
              "          const docLinkHtml = 'Like what you see? Visit the ' +\n",
              "            '<a target=\"_blank\" href=https://colab.research.google.com/notebooks/data_table.ipynb>data table notebook</a>'\n",
              "            + ' to learn more about interactive tables.';\n",
              "          element.innerHTML = '';\n",
              "          dataTable['output_type'] = 'display_data';\n",
              "          await google.colab.output.renderOutput(dataTable, element);\n",
              "          const docLink = document.createElement('div');\n",
              "          docLink.innerHTML = docLinkHtml;\n",
              "          element.appendChild(docLink);\n",
              "        }\n",
              "      </script>\n",
              "    </div>\n",
              "  </div>\n",
              "  "
            ]
          },
          "metadata": {},
          "execution_count": 11
        }
      ]
    },
    {
      "cell_type": "code",
      "source": [
        "del companies_df[\"url\"]   "
      ],
      "metadata": {
        "id": "wnWqP4t7WOmH"
      },
      "execution_count": null,
      "outputs": []
    },
    {
      "cell_type": "code",
      "source": [
        "del companies_df[\"Sectors\"]   "
      ],
      "metadata": {
        "id": "uKiP70PaYHy1"
      },
      "execution_count": null,
      "outputs": []
    },
    {
      "cell_type": "code",
      "source": [
        "sorted(companies_df[\"Name\"])[0:15]"
      ],
      "metadata": {
        "colab": {
          "base_uri": "https://localhost:8080/"
        },
        "id": "lPpDAvdaYDXi",
        "outputId": "42c99f15-be1c-4f74-b79f-8707c363e10d"
      },
      "execution_count": null,
      "outputs": [
        {
          "output_type": "execute_result",
          "data": {
            "text/plain": [
              "['3M COMPANY',\n",
              " 'AB VOLVO',\n",
              " 'ABB',\n",
              " 'ABBOTT LABORATORIES',\n",
              " 'ABBVIE',\n",
              " 'ACCENTURE',\n",
              " 'ACTIVISION BLIZZARD',\n",
              " 'ADIDAS',\n",
              " 'ADOBE',\n",
              " 'ADVANCED MICRO DEVICES (AMD)',\n",
              " 'AFLAC',\n",
              " 'AGRICULTURAL BANK OF CHINA',\n",
              " 'AIA GROUP',\n",
              " 'AIR LIQUIDE',\n",
              " 'AIR PRODUCTS AND CHEMICALS']"
            ]
          },
          "metadata": {},
          "execution_count": 14
        }
      ]
    },
    {
      "cell_type": "code",
      "source": [
        "companies_df[\"Name\"].describe()"
      ],
      "metadata": {
        "colab": {
          "base_uri": "https://localhost:8080/"
        },
        "id": "swcd2WU7YbBs",
        "outputId": "1dd223f6-25df-4363-aed1-0937bc6ce14c"
      },
      "execution_count": null,
      "outputs": [
        {
          "output_type": "execute_result",
          "data": {
            "text/plain": [
              "count                                          500\n",
              "unique                                         500\n",
              "top       SAUDI ARABIAN OIL COMPANY (Saudi Aramco)\n",
              "freq                                             1\n",
              "Name: Name, dtype: object"
            ]
          },
          "metadata": {},
          "execution_count": 15
        }
      ]
    },
    {
      "cell_type": "code",
      "source": [
        "companies_df[\"Headquarter\"][0:15] "
      ],
      "metadata": {
        "colab": {
          "base_uri": "https://localhost:8080/"
        },
        "id": "irVP1YGyZ1B8",
        "outputId": "3b2e537b-8e87-4f20-d790-0a11a71cfb15"
      },
      "execution_count": null,
      "outputs": [
        {
          "output_type": "execute_result",
          "data": {
            "text/plain": [
              "0     Saudi Arabia\n",
              "1              USA\n",
              "2              USA\n",
              "3              USA\n",
              "4              USA\n",
              "5              USA\n",
              "6            China\n",
              "7              USA\n",
              "8            China\n",
              "9              USA\n",
              "10             USA\n",
              "11             USA\n",
              "12             USA\n",
              "13     South Korea\n",
              "14             USA\n",
              "Name: Headquarter, dtype: object"
            ]
          },
          "metadata": {},
          "execution_count": 16
        }
      ]
    },
    {
      "cell_type": "code",
      "source": [
        "companies_df[\"Headquarter\"].describe()"
      ],
      "metadata": {
        "colab": {
          "base_uri": "https://localhost:8080/"
        },
        "id": "g3__MOSYaXYL",
        "outputId": "34929a86-d7bb-4c15-80b8-dc0edd9567a2"
      },
      "execution_count": null,
      "outputs": [
        {
          "output_type": "execute_result",
          "data": {
            "text/plain": [
              "count     500\n",
              "unique     38\n",
              "top       USA\n",
              "freq      208\n",
              "Name: Headquarter, dtype: object"
            ]
          },
          "metadata": {},
          "execution_count": 17
        }
      ]
    },
    {
      "cell_type": "code",
      "source": [
        "dummy_vector = pd.Series([1,None,3,None,7,8])\n",
        "\n",
        "dummy_vector.isnull()"
      ],
      "metadata": {
        "colab": {
          "base_uri": "https://localhost:8080/"
        },
        "id": "O1JxaOxnioaJ",
        "outputId": "1d7bd058-4b69-468e-baea-fc14a5b2ba46"
      },
      "execution_count": null,
      "outputs": [
        {
          "output_type": "execute_result",
          "data": {
            "text/plain": [
              "0    False\n",
              "1     True\n",
              "2    False\n",
              "3     True\n",
              "4    False\n",
              "5    False\n",
              "dtype: bool"
            ]
          },
          "metadata": {},
          "execution_count": 18
        }
      ]
    },
    {
      "cell_type": "markdown",
      "source": [
        "# **Checking of missing values**"
      ],
      "metadata": {
        "id": "A-n437k_mKrZ"
      }
    },
    {
      "cell_type": "code",
      "source": [
        "companies_df.isnull().sum()"
      ],
      "metadata": {
        "colab": {
          "base_uri": "https://localhost:8080/"
        },
        "id": "Ge6xl3yjmBZg",
        "outputId": "5aa2d12a-f970-418d-bbdf-a05c29f90c9a"
      },
      "execution_count": null,
      "outputs": [
        {
          "output_type": "execute_result",
          "data": {
            "text/plain": [
              "Name                      0\n",
              "Rank                      0\n",
              "Headquarter               0\n",
              "CEO                      34\n",
              "Market Capitalization    26\n",
              "Total No. Of Employee     2\n",
              "dtype: int64"
            ]
          },
          "metadata": {},
          "execution_count": 19
        }
      ]
    },
    {
      "cell_type": "markdown",
      "source": [
        "We can see in this example, our first column contains three missing values, along with one each in column 4 and 5 6  as well."
      ],
      "metadata": {
        "id": "XoYgoPanmQ-o"
      }
    },
    {
      "cell_type": "markdown",
      "source": [
        "# **Removing missing values**"
      ],
      "metadata": {
        "id": "11BWyUmvnku-"
      }
    },
    {
      "cell_type": "code",
      "source": [
        "# drop all rows with any NaN and NaT values\n",
        "df1 = companies_df.dropna()\n",
        "print(df1)"
      ],
      "metadata": {
        "colab": {
          "base_uri": "https://localhost:8080/"
        },
        "id": "h2Dq5TL_mOYB",
        "outputId": "b835d1e8-0a0c-41a8-c188-ebd1a0823e15"
      },
      "execution_count": null,
      "outputs": [
        {
          "output_type": "stream",
          "name": "stdout",
          "text": [
            "                                             Name  Rank   Headquarter  \\\n",
            "0        SAUDI ARABIAN OIL COMPANY (Saudi Aramco)     1  Saudi Arabia   \n",
            "1                                           APPLE     2           USA   \n",
            "2                           MICROSOFT CORPORATION     3           USA   \n",
            "3                                        ALPHABET     4           USA   \n",
            "4                                      AMAZON.COM     5           USA   \n",
            "..                                            ...   ...           ...   \n",
            "495                            SEVEN & I HOLDINGS   471         Japan   \n",
            "496                        ASSICURAZIONI GENERALI   472         Italy   \n",
            "497                          AMPHENOL CORPORATION   473           USA   \n",
            "498                                 GENERAL MILLS   474           USA   \n",
            "499  FOMENTO ECONOMICO MEXICANOB. DE C.V. (FEMSA)   475        Mexico   \n",
            "\n",
            "                       CEO Market Capitalization Total No. Of Employee  \n",
            "0        Amin H. Al-Nasser   1898.10 Billion USD                79,800  \n",
            "1                 Tim Cook   1323.00 Billion USD               154,000  \n",
            "2            Satya Nadella   1215.00 Billion USD               220,000  \n",
            "3            Sundar Pichai    943.90 Billion USD               156,500  \n",
            "4               Andy Jassy    941.03 Billion USD             1,335,000  \n",
            "..                     ...                   ...                   ...  \n",
            "495          Ryuichi Isaka     32.65 Billion USD               138,808  \n",
            "496        Philippe Donnet     32.61 Billion USD                72,644  \n",
            "497   Richard Adam Norwitt     32.53 Billion USD                90,000  \n",
            "498         Jeff Harmening     32.52 Billion USD                35,000  \n",
            "499  Eduardo Padilla Silva     32.46 Billion USD               320,618  \n",
            "\n",
            "[462 rows x 6 columns]\n"
          ]
        }
      ]
    },
    {
      "cell_type": "code",
      "source": [
        "df1.isnull().sum()"
      ],
      "metadata": {
        "colab": {
          "base_uri": "https://localhost:8080/"
        },
        "id": "2KT7JLldnesT",
        "outputId": "00e0f361-30ce-45b1-e4c0-c13b1b98c9e7"
      },
      "execution_count": null,
      "outputs": [
        {
          "output_type": "execute_result",
          "data": {
            "text/plain": [
              "Name                     0\n",
              "Rank                     0\n",
              "Headquarter              0\n",
              "CEO                      0\n",
              "Market Capitalization    0\n",
              "Total No. Of Employee    0\n",
              "dtype: int64"
            ]
          },
          "metadata": {},
          "execution_count": 21
        }
      ]
    },
    {
      "cell_type": "markdown",
      "source": [
        "# **One hot Encoding**"
      ],
      "metadata": {
        "id": "8-yDeM2Brqcr"
      }
    },
    {
      "cell_type": "code",
      "source": [
        "static = pd.get_dummies(df1['Headquarter'],prefix_sep='_',prefix='Headquarter',drop_first = True)"
      ],
      "metadata": {
        "id": "0xAtGhkVouk2"
      },
      "execution_count": null,
      "outputs": []
    },
    {
      "cell_type": "code",
      "source": [
        "static"
      ],
      "metadata": {
        "colab": {
          "base_uri": "https://localhost:8080/",
          "height": 505
        },
        "id": "FPaTy2RVqwhj",
        "outputId": "69256a19-9fb8-4905-bc75-925b3acd9eba"
      },
      "execution_count": null,
      "outputs": [
        {
          "output_type": "execute_result",
          "data": {
            "text/plain": [
              "     Headquarter_Belgium  Headquarter_Bermuda  Headquarter_Brazil  \\\n",
              "0                      0                    0                   0   \n",
              "1                      0                    0                   0   \n",
              "2                      0                    0                   0   \n",
              "3                      0                    0                   0   \n",
              "4                      0                    0                   0   \n",
              "..                   ...                  ...                 ...   \n",
              "495                    0                    0                   0   \n",
              "496                    0                    0                   0   \n",
              "497                    0                    0                   0   \n",
              "498                    0                    0                   0   \n",
              "499                    0                    0                   0   \n",
              "\n",
              "     Headquarter_Canada  Headquarter_China  Headquarter_Colombia  \\\n",
              "0                     0                  0                     0   \n",
              "1                     0                  0                     0   \n",
              "2                     0                  0                     0   \n",
              "3                     0                  0                     0   \n",
              "4                     0                  0                     0   \n",
              "..                  ...                ...                   ...   \n",
              "495                   0                  0                     0   \n",
              "496                   0                  0                     0   \n",
              "497                   0                  0                     0   \n",
              "498                   0                  0                     0   \n",
              "499                   0                  0                     0   \n",
              "\n",
              "     Headquarter_Denmark  Headquarter_Finland  Headquarter_France  \\\n",
              "0                      0                    0                   0   \n",
              "1                      0                    0                   0   \n",
              "2                      0                    0                   0   \n",
              "3                      0                    0                   0   \n",
              "4                      0                    0                   0   \n",
              "..                   ...                  ...                 ...   \n",
              "495                    0                    0                   0   \n",
              "496                    0                    0                   0   \n",
              "497                    0                    0                   0   \n",
              "498                    0                    0                   0   \n",
              "499                    0                    0                   0   \n",
              "\n",
              "     Headquarter_Germany  ...  Headquarter_South Korea  Headquarter_Spain  \\\n",
              "0                      0  ...                        0                  0   \n",
              "1                      0  ...                        0                  0   \n",
              "2                      0  ...                        0                  0   \n",
              "3                      0  ...                        0                  0   \n",
              "4                      0  ...                        0                  0   \n",
              "..                   ...  ...                      ...                ...   \n",
              "495                    0  ...                        0                  0   \n",
              "496                    0  ...                        0                  0   \n",
              "497                    0  ...                        0                  0   \n",
              "498                    0  ...                        0                  0   \n",
              "499                    0  ...                        0                  0   \n",
              "\n",
              "     Headquarter_Sweden  Headquarter_Switzerland  Headquarter_Taiwan  \\\n",
              "0                     0                        0                   0   \n",
              "1                     0                        0                   0   \n",
              "2                     0                        0                   0   \n",
              "3                     0                        0                   0   \n",
              "4                     0                        0                   0   \n",
              "..                  ...                      ...                 ...   \n",
              "495                   0                        0                   0   \n",
              "496                   0                        0                   0   \n",
              "497                   0                        0                   0   \n",
              "498                   0                        0                   0   \n",
              "499                   0                        0                   0   \n",
              "\n",
              "     Headquarter_Thailand  Headquarter_UAE  Headquarter_UK  \\\n",
              "0                       0                0               0   \n",
              "1                       0                0               0   \n",
              "2                       0                0               0   \n",
              "3                       0                0               0   \n",
              "4                       0                0               0   \n",
              "..                    ...              ...             ...   \n",
              "495                     0                0               0   \n",
              "496                     0                0               0   \n",
              "497                     0                0               0   \n",
              "498                     0                0               0   \n",
              "499                     0                0               0   \n",
              "\n",
              "     Headquarter_UK, Ireland  Headquarter_USA  \n",
              "0                          0                0  \n",
              "1                          0                1  \n",
              "2                          0                1  \n",
              "3                          0                1  \n",
              "4                          0                1  \n",
              "..                       ...              ...  \n",
              "495                        0                0  \n",
              "496                        0                0  \n",
              "497                        0                1  \n",
              "498                        0                1  \n",
              "499                        0                0  \n",
              "\n",
              "[462 rows x 36 columns]"
            ],
            "text/html": [
              "\n",
              "  <div id=\"df-d07e469e-212f-40b6-a640-eef70b3c5a95\">\n",
              "    <div class=\"colab-df-container\">\n",
              "      <div>\n",
              "<style scoped>\n",
              "    .dataframe tbody tr th:only-of-type {\n",
              "        vertical-align: middle;\n",
              "    }\n",
              "\n",
              "    .dataframe tbody tr th {\n",
              "        vertical-align: top;\n",
              "    }\n",
              "\n",
              "    .dataframe thead th {\n",
              "        text-align: right;\n",
              "    }\n",
              "</style>\n",
              "<table border=\"1\" class=\"dataframe\">\n",
              "  <thead>\n",
              "    <tr style=\"text-align: right;\">\n",
              "      <th></th>\n",
              "      <th>Headquarter_Belgium</th>\n",
              "      <th>Headquarter_Bermuda</th>\n",
              "      <th>Headquarter_Brazil</th>\n",
              "      <th>Headquarter_Canada</th>\n",
              "      <th>Headquarter_China</th>\n",
              "      <th>Headquarter_Colombia</th>\n",
              "      <th>Headquarter_Denmark</th>\n",
              "      <th>Headquarter_Finland</th>\n",
              "      <th>Headquarter_France</th>\n",
              "      <th>Headquarter_Germany</th>\n",
              "      <th>...</th>\n",
              "      <th>Headquarter_South Korea</th>\n",
              "      <th>Headquarter_Spain</th>\n",
              "      <th>Headquarter_Sweden</th>\n",
              "      <th>Headquarter_Switzerland</th>\n",
              "      <th>Headquarter_Taiwan</th>\n",
              "      <th>Headquarter_Thailand</th>\n",
              "      <th>Headquarter_UAE</th>\n",
              "      <th>Headquarter_UK</th>\n",
              "      <th>Headquarter_UK, Ireland</th>\n",
              "      <th>Headquarter_USA</th>\n",
              "    </tr>\n",
              "  </thead>\n",
              "  <tbody>\n",
              "    <tr>\n",
              "      <th>0</th>\n",
              "      <td>0</td>\n",
              "      <td>0</td>\n",
              "      <td>0</td>\n",
              "      <td>0</td>\n",
              "      <td>0</td>\n",
              "      <td>0</td>\n",
              "      <td>0</td>\n",
              "      <td>0</td>\n",
              "      <td>0</td>\n",
              "      <td>0</td>\n",
              "      <td>...</td>\n",
              "      <td>0</td>\n",
              "      <td>0</td>\n",
              "      <td>0</td>\n",
              "      <td>0</td>\n",
              "      <td>0</td>\n",
              "      <td>0</td>\n",
              "      <td>0</td>\n",
              "      <td>0</td>\n",
              "      <td>0</td>\n",
              "      <td>0</td>\n",
              "    </tr>\n",
              "    <tr>\n",
              "      <th>1</th>\n",
              "      <td>0</td>\n",
              "      <td>0</td>\n",
              "      <td>0</td>\n",
              "      <td>0</td>\n",
              "      <td>0</td>\n",
              "      <td>0</td>\n",
              "      <td>0</td>\n",
              "      <td>0</td>\n",
              "      <td>0</td>\n",
              "      <td>0</td>\n",
              "      <td>...</td>\n",
              "      <td>0</td>\n",
              "      <td>0</td>\n",
              "      <td>0</td>\n",
              "      <td>0</td>\n",
              "      <td>0</td>\n",
              "      <td>0</td>\n",
              "      <td>0</td>\n",
              "      <td>0</td>\n",
              "      <td>0</td>\n",
              "      <td>1</td>\n",
              "    </tr>\n",
              "    <tr>\n",
              "      <th>2</th>\n",
              "      <td>0</td>\n",
              "      <td>0</td>\n",
              "      <td>0</td>\n",
              "      <td>0</td>\n",
              "      <td>0</td>\n",
              "      <td>0</td>\n",
              "      <td>0</td>\n",
              "      <td>0</td>\n",
              "      <td>0</td>\n",
              "      <td>0</td>\n",
              "      <td>...</td>\n",
              "      <td>0</td>\n",
              "      <td>0</td>\n",
              "      <td>0</td>\n",
              "      <td>0</td>\n",
              "      <td>0</td>\n",
              "      <td>0</td>\n",
              "      <td>0</td>\n",
              "      <td>0</td>\n",
              "      <td>0</td>\n",
              "      <td>1</td>\n",
              "    </tr>\n",
              "    <tr>\n",
              "      <th>3</th>\n",
              "      <td>0</td>\n",
              "      <td>0</td>\n",
              "      <td>0</td>\n",
              "      <td>0</td>\n",
              "      <td>0</td>\n",
              "      <td>0</td>\n",
              "      <td>0</td>\n",
              "      <td>0</td>\n",
              "      <td>0</td>\n",
              "      <td>0</td>\n",
              "      <td>...</td>\n",
              "      <td>0</td>\n",
              "      <td>0</td>\n",
              "      <td>0</td>\n",
              "      <td>0</td>\n",
              "      <td>0</td>\n",
              "      <td>0</td>\n",
              "      <td>0</td>\n",
              "      <td>0</td>\n",
              "      <td>0</td>\n",
              "      <td>1</td>\n",
              "    </tr>\n",
              "    <tr>\n",
              "      <th>4</th>\n",
              "      <td>0</td>\n",
              "      <td>0</td>\n",
              "      <td>0</td>\n",
              "      <td>0</td>\n",
              "      <td>0</td>\n",
              "      <td>0</td>\n",
              "      <td>0</td>\n",
              "      <td>0</td>\n",
              "      <td>0</td>\n",
              "      <td>0</td>\n",
              "      <td>...</td>\n",
              "      <td>0</td>\n",
              "      <td>0</td>\n",
              "      <td>0</td>\n",
              "      <td>0</td>\n",
              "      <td>0</td>\n",
              "      <td>0</td>\n",
              "      <td>0</td>\n",
              "      <td>0</td>\n",
              "      <td>0</td>\n",
              "      <td>1</td>\n",
              "    </tr>\n",
              "    <tr>\n",
              "      <th>...</th>\n",
              "      <td>...</td>\n",
              "      <td>...</td>\n",
              "      <td>...</td>\n",
              "      <td>...</td>\n",
              "      <td>...</td>\n",
              "      <td>...</td>\n",
              "      <td>...</td>\n",
              "      <td>...</td>\n",
              "      <td>...</td>\n",
              "      <td>...</td>\n",
              "      <td>...</td>\n",
              "      <td>...</td>\n",
              "      <td>...</td>\n",
              "      <td>...</td>\n",
              "      <td>...</td>\n",
              "      <td>...</td>\n",
              "      <td>...</td>\n",
              "      <td>...</td>\n",
              "      <td>...</td>\n",
              "      <td>...</td>\n",
              "      <td>...</td>\n",
              "    </tr>\n",
              "    <tr>\n",
              "      <th>495</th>\n",
              "      <td>0</td>\n",
              "      <td>0</td>\n",
              "      <td>0</td>\n",
              "      <td>0</td>\n",
              "      <td>0</td>\n",
              "      <td>0</td>\n",
              "      <td>0</td>\n",
              "      <td>0</td>\n",
              "      <td>0</td>\n",
              "      <td>0</td>\n",
              "      <td>...</td>\n",
              "      <td>0</td>\n",
              "      <td>0</td>\n",
              "      <td>0</td>\n",
              "      <td>0</td>\n",
              "      <td>0</td>\n",
              "      <td>0</td>\n",
              "      <td>0</td>\n",
              "      <td>0</td>\n",
              "      <td>0</td>\n",
              "      <td>0</td>\n",
              "    </tr>\n",
              "    <tr>\n",
              "      <th>496</th>\n",
              "      <td>0</td>\n",
              "      <td>0</td>\n",
              "      <td>0</td>\n",
              "      <td>0</td>\n",
              "      <td>0</td>\n",
              "      <td>0</td>\n",
              "      <td>0</td>\n",
              "      <td>0</td>\n",
              "      <td>0</td>\n",
              "      <td>0</td>\n",
              "      <td>...</td>\n",
              "      <td>0</td>\n",
              "      <td>0</td>\n",
              "      <td>0</td>\n",
              "      <td>0</td>\n",
              "      <td>0</td>\n",
              "      <td>0</td>\n",
              "      <td>0</td>\n",
              "      <td>0</td>\n",
              "      <td>0</td>\n",
              "      <td>0</td>\n",
              "    </tr>\n",
              "    <tr>\n",
              "      <th>497</th>\n",
              "      <td>0</td>\n",
              "      <td>0</td>\n",
              "      <td>0</td>\n",
              "      <td>0</td>\n",
              "      <td>0</td>\n",
              "      <td>0</td>\n",
              "      <td>0</td>\n",
              "      <td>0</td>\n",
              "      <td>0</td>\n",
              "      <td>0</td>\n",
              "      <td>...</td>\n",
              "      <td>0</td>\n",
              "      <td>0</td>\n",
              "      <td>0</td>\n",
              "      <td>0</td>\n",
              "      <td>0</td>\n",
              "      <td>0</td>\n",
              "      <td>0</td>\n",
              "      <td>0</td>\n",
              "      <td>0</td>\n",
              "      <td>1</td>\n",
              "    </tr>\n",
              "    <tr>\n",
              "      <th>498</th>\n",
              "      <td>0</td>\n",
              "      <td>0</td>\n",
              "      <td>0</td>\n",
              "      <td>0</td>\n",
              "      <td>0</td>\n",
              "      <td>0</td>\n",
              "      <td>0</td>\n",
              "      <td>0</td>\n",
              "      <td>0</td>\n",
              "      <td>0</td>\n",
              "      <td>...</td>\n",
              "      <td>0</td>\n",
              "      <td>0</td>\n",
              "      <td>0</td>\n",
              "      <td>0</td>\n",
              "      <td>0</td>\n",
              "      <td>0</td>\n",
              "      <td>0</td>\n",
              "      <td>0</td>\n",
              "      <td>0</td>\n",
              "      <td>1</td>\n",
              "    </tr>\n",
              "    <tr>\n",
              "      <th>499</th>\n",
              "      <td>0</td>\n",
              "      <td>0</td>\n",
              "      <td>0</td>\n",
              "      <td>0</td>\n",
              "      <td>0</td>\n",
              "      <td>0</td>\n",
              "      <td>0</td>\n",
              "      <td>0</td>\n",
              "      <td>0</td>\n",
              "      <td>0</td>\n",
              "      <td>...</td>\n",
              "      <td>0</td>\n",
              "      <td>0</td>\n",
              "      <td>0</td>\n",
              "      <td>0</td>\n",
              "      <td>0</td>\n",
              "      <td>0</td>\n",
              "      <td>0</td>\n",
              "      <td>0</td>\n",
              "      <td>0</td>\n",
              "      <td>0</td>\n",
              "    </tr>\n",
              "  </tbody>\n",
              "</table>\n",
              "<p>462 rows × 36 columns</p>\n",
              "</div>\n",
              "      <button class=\"colab-df-convert\" onclick=\"convertToInteractive('df-d07e469e-212f-40b6-a640-eef70b3c5a95')\"\n",
              "              title=\"Convert this dataframe to an interactive table.\"\n",
              "              style=\"display:none;\">\n",
              "        \n",
              "  <svg xmlns=\"http://www.w3.org/2000/svg\" height=\"24px\"viewBox=\"0 0 24 24\"\n",
              "       width=\"24px\">\n",
              "    <path d=\"M0 0h24v24H0V0z\" fill=\"none\"/>\n",
              "    <path d=\"M18.56 5.44l.94 2.06.94-2.06 2.06-.94-2.06-.94-.94-2.06-.94 2.06-2.06.94zm-11 1L8.5 8.5l.94-2.06 2.06-.94-2.06-.94L8.5 2.5l-.94 2.06-2.06.94zm10 10l.94 2.06.94-2.06 2.06-.94-2.06-.94-.94-2.06-.94 2.06-2.06.94z\"/><path d=\"M17.41 7.96l-1.37-1.37c-.4-.4-.92-.59-1.43-.59-.52 0-1.04.2-1.43.59L10.3 9.45l-7.72 7.72c-.78.78-.78 2.05 0 2.83L4 21.41c.39.39.9.59 1.41.59.51 0 1.02-.2 1.41-.59l7.78-7.78 2.81-2.81c.8-.78.8-2.07 0-2.86zM5.41 20L4 18.59l7.72-7.72 1.47 1.35L5.41 20z\"/>\n",
              "  </svg>\n",
              "      </button>\n",
              "      \n",
              "  <style>\n",
              "    .colab-df-container {\n",
              "      display:flex;\n",
              "      flex-wrap:wrap;\n",
              "      gap: 12px;\n",
              "    }\n",
              "\n",
              "    .colab-df-convert {\n",
              "      background-color: #E8F0FE;\n",
              "      border: none;\n",
              "      border-radius: 50%;\n",
              "      cursor: pointer;\n",
              "      display: none;\n",
              "      fill: #1967D2;\n",
              "      height: 32px;\n",
              "      padding: 0 0 0 0;\n",
              "      width: 32px;\n",
              "    }\n",
              "\n",
              "    .colab-df-convert:hover {\n",
              "      background-color: #E2EBFA;\n",
              "      box-shadow: 0px 1px 2px rgba(60, 64, 67, 0.3), 0px 1px 3px 1px rgba(60, 64, 67, 0.15);\n",
              "      fill: #174EA6;\n",
              "    }\n",
              "\n",
              "    [theme=dark] .colab-df-convert {\n",
              "      background-color: #3B4455;\n",
              "      fill: #D2E3FC;\n",
              "    }\n",
              "\n",
              "    [theme=dark] .colab-df-convert:hover {\n",
              "      background-color: #434B5C;\n",
              "      box-shadow: 0px 1px 3px 1px rgba(0, 0, 0, 0.15);\n",
              "      filter: drop-shadow(0px 1px 2px rgba(0, 0, 0, 0.3));\n",
              "      fill: #FFFFFF;\n",
              "    }\n",
              "  </style>\n",
              "\n",
              "      <script>\n",
              "        const buttonEl =\n",
              "          document.querySelector('#df-d07e469e-212f-40b6-a640-eef70b3c5a95 button.colab-df-convert');\n",
              "        buttonEl.style.display =\n",
              "          google.colab.kernel.accessAllowed ? 'block' : 'none';\n",
              "\n",
              "        async function convertToInteractive(key) {\n",
              "          const element = document.querySelector('#df-d07e469e-212f-40b6-a640-eef70b3c5a95');\n",
              "          const dataTable =\n",
              "            await google.colab.kernel.invokeFunction('convertToInteractive',\n",
              "                                                     [key], {});\n",
              "          if (!dataTable) return;\n",
              "\n",
              "          const docLinkHtml = 'Like what you see? Visit the ' +\n",
              "            '<a target=\"_blank\" href=https://colab.research.google.com/notebooks/data_table.ipynb>data table notebook</a>'\n",
              "            + ' to learn more about interactive tables.';\n",
              "          element.innerHTML = '';\n",
              "          dataTable['output_type'] = 'display_data';\n",
              "          await google.colab.output.renderOutput(dataTable, element);\n",
              "          const docLink = document.createElement('div');\n",
              "          docLink.innerHTML = docLinkHtml;\n",
              "          element.appendChild(docLink);\n",
              "        }\n",
              "      </script>\n",
              "    </div>\n",
              "  </div>\n",
              "  "
            ]
          },
          "metadata": {},
          "execution_count": 25
        }
      ]
    }
  ]
}